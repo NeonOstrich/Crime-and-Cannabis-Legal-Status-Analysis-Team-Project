{
 "cells": [
  {
   "cell_type": "code",
   "execution_count": 28,
   "metadata": {},
   "outputs": [],
   "source": [
    "# Import Dependencies\n",
    "import warnings\n",
    "warnings.filterwarnings('ignore')"
   ]
  },
  {
   "cell_type": "code",
   "execution_count": 29,
   "metadata": {},
   "outputs": [],
   "source": [
    "%matplotlib inline\n",
    "import pandas as pd\n",
    "import scipy.stats as stats\n",
    "import numpy as np\n",
    "import matplotlib.pyplot as plt\n",
    "from statsmodels.stats.multicomp import pairwise_tukeyhsd"
   ]
  },
  {
   "cell_type": "code",
   "execution_count": 30,
   "metadata": {},
   "outputs": [],
   "source": [
    "canna_data = pd.read_csv(\"../clean_data.csv\")"
   ]
  },
  {
   "cell_type": "code",
   "execution_count": 31,
   "metadata": {},
   "outputs": [
    {
     "data": {
      "text/html": [
       "<div>\n",
       "<style scoped>\n",
       "    .dataframe tbody tr th:only-of-type {\n",
       "        vertical-align: middle;\n",
       "    }\n",
       "\n",
       "    .dataframe tbody tr th {\n",
       "        vertical-align: top;\n",
       "    }\n",
       "\n",
       "    .dataframe thead th {\n",
       "        text-align: right;\n",
       "    }\n",
       "</style>\n",
       "<table border=\"1\" class=\"dataframe\">\n",
       "  <thead>\n",
       "    <tr style=\"text-align: right;\">\n",
       "      <th></th>\n",
       "      <th>Unnamed: 0</th>\n",
       "      <th>City</th>\n",
       "      <th>State</th>\n",
       "      <th>Legal Status</th>\n",
       "      <th>Legal Status Code</th>\n",
       "      <th>Population</th>\n",
       "      <th>Violent Crime per Capita</th>\n",
       "      <th>Rape per Capita</th>\n",
       "      <th>Robbery per Capita</th>\n",
       "      <th>Aggravated Assault per Capita</th>\n",
       "      <th>Property Crime Total per Capita</th>\n",
       "      <th>Burglary per Capita</th>\n",
       "      <th>Larceny-Theft per Capita</th>\n",
       "      <th>Motor Vehicle Theft per Capita</th>\n",
       "    </tr>\n",
       "  </thead>\n",
       "  <tbody>\n",
       "    <tr>\n",
       "      <th>0</th>\n",
       "      <td>0</td>\n",
       "      <td>Cedar Bluff</td>\n",
       "      <td>Alabama</td>\n",
       "      <td>Illegal</td>\n",
       "      <td>1.0</td>\n",
       "      <td>1823.0</td>\n",
       "      <td>0.002194</td>\n",
       "      <td>0.000000</td>\n",
       "      <td>0.000000</td>\n",
       "      <td>0.002194</td>\n",
       "      <td>0.019748</td>\n",
       "      <td>0.003840</td>\n",
       "      <td>0.014262</td>\n",
       "      <td>0.001646</td>\n",
       "    </tr>\n",
       "    <tr>\n",
       "      <th>1</th>\n",
       "      <td>1</td>\n",
       "      <td>Centre</td>\n",
       "      <td>Alabama</td>\n",
       "      <td>Illegal</td>\n",
       "      <td>1.0</td>\n",
       "      <td>3547.0</td>\n",
       "      <td>0.005639</td>\n",
       "      <td>0.001128</td>\n",
       "      <td>0.000000</td>\n",
       "      <td>0.004511</td>\n",
       "      <td>0.034959</td>\n",
       "      <td>0.003383</td>\n",
       "      <td>0.027347</td>\n",
       "      <td>0.004229</td>\n",
       "    </tr>\n",
       "    <tr>\n",
       "      <th>2</th>\n",
       "      <td>2</td>\n",
       "      <td>Daleville</td>\n",
       "      <td>Alabama</td>\n",
       "      <td>Illegal</td>\n",
       "      <td>1.0</td>\n",
       "      <td>5080.0</td>\n",
       "      <td>0.003150</td>\n",
       "      <td>0.000000</td>\n",
       "      <td>0.000197</td>\n",
       "      <td>0.002953</td>\n",
       "      <td>0.019291</td>\n",
       "      <td>0.003740</td>\n",
       "      <td>0.014173</td>\n",
       "      <td>0.001378</td>\n",
       "    </tr>\n",
       "    <tr>\n",
       "      <th>3</th>\n",
       "      <td>3</td>\n",
       "      <td>Enterprise</td>\n",
       "      <td>Alabama</td>\n",
       "      <td>Illegal</td>\n",
       "      <td>1.0</td>\n",
       "      <td>28569.0</td>\n",
       "      <td>0.004480</td>\n",
       "      <td>0.000595</td>\n",
       "      <td>0.000315</td>\n",
       "      <td>0.003500</td>\n",
       "      <td>0.025027</td>\n",
       "      <td>0.003395</td>\n",
       "      <td>0.019952</td>\n",
       "      <td>0.001680</td>\n",
       "    </tr>\n",
       "    <tr>\n",
       "      <th>4</th>\n",
       "      <td>4</td>\n",
       "      <td>Eufaula</td>\n",
       "      <td>Alabama</td>\n",
       "      <td>Illegal</td>\n",
       "      <td>1.0</td>\n",
       "      <td>11568.0</td>\n",
       "      <td>0.008212</td>\n",
       "      <td>0.000778</td>\n",
       "      <td>0.001297</td>\n",
       "      <td>0.005878</td>\n",
       "      <td>0.039419</td>\n",
       "      <td>0.008212</td>\n",
       "      <td>0.027490</td>\n",
       "      <td>0.003717</td>\n",
       "    </tr>\n",
       "  </tbody>\n",
       "</table>\n",
       "</div>"
      ],
      "text/plain": [
       "   Unnamed: 0         City    State Legal Status  Legal Status Code  \\\n",
       "0           0  Cedar Bluff  Alabama      Illegal                1.0   \n",
       "1           1       Centre  Alabama      Illegal                1.0   \n",
       "2           2    Daleville  Alabama      Illegal                1.0   \n",
       "3           3   Enterprise  Alabama      Illegal                1.0   \n",
       "4           4      Eufaula  Alabama      Illegal                1.0   \n",
       "\n",
       "   Population  Violent Crime per Capita  Rape per Capita  Robbery per Capita  \\\n",
       "0      1823.0                  0.002194         0.000000            0.000000   \n",
       "1      3547.0                  0.005639         0.001128            0.000000   \n",
       "2      5080.0                  0.003150         0.000000            0.000197   \n",
       "3     28569.0                  0.004480         0.000595            0.000315   \n",
       "4     11568.0                  0.008212         0.000778            0.001297   \n",
       "\n",
       "   Aggravated Assault per Capita  Property Crime Total per Capita  \\\n",
       "0                       0.002194                         0.019748   \n",
       "1                       0.004511                         0.034959   \n",
       "2                       0.002953                         0.019291   \n",
       "3                       0.003500                         0.025027   \n",
       "4                       0.005878                         0.039419   \n",
       "\n",
       "   Burglary per Capita  Larceny-Theft per Capita  \\\n",
       "0             0.003840                  0.014262   \n",
       "1             0.003383                  0.027347   \n",
       "2             0.003740                  0.014173   \n",
       "3             0.003395                  0.019952   \n",
       "4             0.008212                  0.027490   \n",
       "\n",
       "   Motor Vehicle Theft per Capita  \n",
       "0                        0.001646  \n",
       "1                        0.004229  \n",
       "2                        0.001378  \n",
       "3                        0.001680  \n",
       "4                        0.003717  "
      ]
     },
     "execution_count": 31,
     "metadata": {},
     "output_type": "execute_result"
    }
   ],
   "source": [
    "canna_data.head()"
   ]
  },
  {
   "cell_type": "code",
   "execution_count": 32,
   "metadata": {
    "scrolled": true
   },
   "outputs": [
    {
     "ename": "AttributeError",
     "evalue": "'DataFrame' object has no attribute 'set_ylim'",
     "output_type": "error",
     "traceback": [
      "\u001b[0;31m---------------------------------------------------------------------------\u001b[0m",
      "\u001b[0;31mAttributeError\u001b[0m                            Traceback (most recent call last)",
      "\u001b[0;32m/var/folders/87/dqr5jfd95_g_ttf8db89jb9h0000gn/T/ipykernel_22074/110147372.py\u001b[0m in \u001b[0;36m<module>\u001b[0;34m\u001b[0m\n\u001b[1;32m      1\u001b[0m \u001b[0;31m# Create a boxplot to compare means\u001b[0m\u001b[0;34m\u001b[0m\u001b[0;34m\u001b[0m\u001b[0m\n\u001b[1;32m      2\u001b[0m \u001b[0mcanna_data\u001b[0m\u001b[0;34m.\u001b[0m\u001b[0mboxplot\u001b[0m\u001b[0;34m(\u001b[0m\u001b[0;34m\"Aggravated Assault per Capita\"\u001b[0m\u001b[0;34m,\u001b[0m \u001b[0mby\u001b[0m\u001b[0;34m=\u001b[0m\u001b[0;34m\"Legal Status Code\"\u001b[0m\u001b[0;34m,\u001b[0m \u001b[0mfigsize\u001b[0m\u001b[0;34m=\u001b[0m\u001b[0;34m(\u001b[0m\u001b[0;36m10\u001b[0m\u001b[0;34m,\u001b[0m \u001b[0;36m3\u001b[0m\u001b[0;34m)\u001b[0m\u001b[0;34m)\u001b[0m\u001b[0;34m\u001b[0m\u001b[0;34m\u001b[0m\u001b[0m\n\u001b[0;32m----> 3\u001b[0;31m \u001b[0mcanna_data\u001b[0m\u001b[0;34m.\u001b[0m\u001b[0mset_ylim\u001b[0m\u001b[0;34m(\u001b[0m\u001b[0;36m0\u001b[0m\u001b[0;34m,\u001b[0m \u001b[0;36m0.5\u001b[0m\u001b[0;34m)\u001b[0m\u001b[0;34m\u001b[0m\u001b[0;34m\u001b[0m\u001b[0m\n\u001b[0m",
      "\u001b[0;32m~/opt/anaconda3/lib/python3.9/site-packages/pandas/core/generic.py\u001b[0m in \u001b[0;36m__getattr__\u001b[0;34m(self, name)\u001b[0m\n\u001b[1;32m   5573\u001b[0m         ):\n\u001b[1;32m   5574\u001b[0m             \u001b[0;32mreturn\u001b[0m \u001b[0mself\u001b[0m\u001b[0;34m[\u001b[0m\u001b[0mname\u001b[0m\u001b[0;34m]\u001b[0m\u001b[0;34m\u001b[0m\u001b[0;34m\u001b[0m\u001b[0m\n\u001b[0;32m-> 5575\u001b[0;31m         \u001b[0;32mreturn\u001b[0m \u001b[0mobject\u001b[0m\u001b[0;34m.\u001b[0m\u001b[0m__getattribute__\u001b[0m\u001b[0;34m(\u001b[0m\u001b[0mself\u001b[0m\u001b[0;34m,\u001b[0m \u001b[0mname\u001b[0m\u001b[0;34m)\u001b[0m\u001b[0;34m\u001b[0m\u001b[0;34m\u001b[0m\u001b[0m\n\u001b[0m\u001b[1;32m   5576\u001b[0m \u001b[0;34m\u001b[0m\u001b[0m\n\u001b[1;32m   5577\u001b[0m     \u001b[0;32mdef\u001b[0m \u001b[0m__setattr__\u001b[0m\u001b[0;34m(\u001b[0m\u001b[0mself\u001b[0m\u001b[0;34m,\u001b[0m \u001b[0mname\u001b[0m\u001b[0;34m:\u001b[0m \u001b[0mstr\u001b[0m\u001b[0;34m,\u001b[0m \u001b[0mvalue\u001b[0m\u001b[0;34m)\u001b[0m \u001b[0;34m->\u001b[0m \u001b[0;32mNone\u001b[0m\u001b[0;34m:\u001b[0m\u001b[0;34m\u001b[0m\u001b[0;34m\u001b[0m\u001b[0m\n",
      "\u001b[0;31mAttributeError\u001b[0m: 'DataFrame' object has no attribute 'set_ylim'"
     ]
    },
    {
     "data": {
      "image/png": "[encoded data removed]",
      "text/plain": [
       "<Figure size 1000x300 with 1 Axes>"
      ]
     },
     "metadata": {},
     "output_type": "display_data"
    }
   ],
   "source": [
    "# Create a boxplot to compare means\n",
    "canna_data.boxplot(\"Aggravated Assault per Capita\", by=\"Legal Status Code\", figsize=(10, 3))\n",
    "canna_data.set_ylim(0, 0.5)"
   ]
  },
  {
   "cell_type": "code",
   "execution_count": 33,
   "metadata": {},
   "outputs": [],
   "source": [
    "# Extract individual groups\n",
    "group1aa = canna_data[canna_data[\"Legal Status Code\"] == 1][\"Aggravated Assault per Capita\"]\n",
    "group2aa = canna_data[canna_data[\"Legal Status Code\"] == 2][\"Aggravated Assault per Capita\"]\n",
    "group3aa = canna_data[canna_data[\"Legal Status Code\"] == 3][\"Aggravated Assault per Capita\"]\n",
    "group4aa = canna_data[canna_data[\"Legal Status Code\"] == 4][\"Aggravated Assault per Capita\"]"
   ]
  },
  {
   "cell_type": "code",
   "execution_count": 34,
   "metadata": {},
   "outputs": [
    {
     "data": {
      "text/plain": [
       "F_onewayResult(statistic=25.85015677348019, pvalue=1.259094890475868e-16)"
      ]
     },
     "execution_count": 34,
     "metadata": {},
     "output_type": "execute_result"
    }
   ],
   "source": [
    "# Perform the ANOVA\n",
    "stats.f_oneway(group1aa, group2aa, group3aa, group4aa)"
   ]
  },
  {
   "cell_type": "code",
   "execution_count": 35,
   "metadata": {},
   "outputs": [],
   "source": [
    "groups = canna_data[\"Legal Status Code\"]"
   ]
  },
  {
   "cell_type": "code",
   "execution_count": 36,
   "metadata": {},
   "outputs": [],
   "source": [
    "data = canna_data[\"Aggravated Assault per Capita\"]"
   ]
  },
  {
   "cell_type": "code",
   "execution_count": 37,
   "metadata": {},
   "outputs": [
    {
     "name": "stdout",
     "output_type": "stream",
     "text": [
      "Multiple Comparison of Means - Tukey HSD, FWER=0.05 \n",
      "====================================================\n",
      "group1 group2 meandiff p-adj   lower   upper  reject\n",
      "----------------------------------------------------\n",
      "   1.0    2.0  -0.0004 0.0005 -0.0007 -0.0001   True\n",
      "   1.0    3.0  -0.0013    0.0 -0.0017 -0.0009   True\n",
      "   1.0    4.0  -0.0003 0.0466 -0.0006    -0.0   True\n",
      "   2.0    3.0  -0.0009    0.0 -0.0013 -0.0005   True\n",
      "   2.0    4.0   0.0001 0.7143 -0.0002  0.0004  False\n",
      "   3.0    4.0    0.001    0.0  0.0006  0.0014   True\n",
      "----------------------------------------------------\n"
     ]
    }
   ],
   "source": [
    "# Perform the Tukey's HSD test\n",
    "tukey = pairwise_tukeyhsd(data, groups)\n",
    "\n",
    "# Print the results\n",
    "print(tukey.summary())\n"
   ]
  },
  {
   "cell_type": "code",
   "execution_count": 38,
   "metadata": {},
   "outputs": [
    {
     "data": {
      "text/plain": [
       "0.002335369969035455"
      ]
     },
     "execution_count": 38,
     "metadata": {},
     "output_type": "execute_result"
    }
   ],
   "source": [
    "population1 = canna_data[canna_data[\"Legal Status Code\"] == 1][\"Aggravated Assault per Capita\"]\n",
    "population1.mean()"
   ]
  },
  {
   "cell_type": "code",
   "execution_count": 39,
   "metadata": {},
   "outputs": [
    {
     "data": {
      "text/plain": [
       "0.001929168349053531"
      ]
     },
     "execution_count": 39,
     "metadata": {},
     "output_type": "execute_result"
    }
   ],
   "source": [
    "# Calculate the population mean for stranger heights in Denver\n",
    "population2 = canna_data[canna_data[\"Legal Status Code\"] == 2][\"Aggravated Assault per Capita\"]\n",
    "population2.mean()"
   ]
  },
  {
   "cell_type": "code",
   "execution_count": 40,
   "metadata": {},
   "outputs": [
    {
     "data": {
      "text/plain": [
       "0.0010505631197218874"
      ]
     },
     "execution_count": 40,
     "metadata": {},
     "output_type": "execute_result"
    }
   ],
   "source": [
    "# Calculate the population mean for stranger heights in Denver\n",
    "population3 = canna_data[canna_data[\"Legal Status Code\"] == 3][\"Aggravated Assault per Capita\"]\n",
    "population3.mean()"
   ]
  },
  {
   "cell_type": "code",
   "execution_count": 41,
   "metadata": {},
   "outputs": [
    {
     "data": {
      "text/plain": [
       "0.002049820190559613"
      ]
     },
     "execution_count": 41,
     "metadata": {},
     "output_type": "execute_result"
    }
   ],
   "source": [
    "population4 = canna_data[canna_data[\"Legal Status Code\"] == 4][\"Aggravated Assault per Capita\"]\n",
    "population4.mean()"
   ]
  },
  {
   "cell_type": "code",
   "execution_count": 42,
   "metadata": {},
   "outputs": [
    {
     "data": {
      "text/plain": [
       "Ttest_indResult(statistic=-0.8472816354175352, pvalue=0.3969201519102594)"
      ]
     },
     "execution_count": 42,
     "metadata": {},
     "output_type": "execute_result"
    }
   ],
   "source": [
    "# Calculate Independent (Two Sample) t-test\n",
    "stats.ttest_ind(population2, population4, equal_var=False)"
   ]
  },
  {
   "cell_type": "code",
   "execution_count": null,
   "metadata": {},
   "outputs": [],
   "source": []
  }
 ],
 "metadata": {
  "kernelspec": {
   "display_name": "Python 3 (ipykernel)",
   "language": "python",
   "name": "python3"
  },
  "language_info": {
   "codemirror_mode": {
    "name": "ipython",
    "version": 3
   },
   "file_extension": ".py",
   "mimetype": "text/x-python",
   "name": "python",
   "nbconvert_exporter": "python",
   "pygments_lexer": "ipython3",
   "version": "3.9.13"
  }
 },
 "nbformat": 4,
 "nbformat_minor": 2
}
