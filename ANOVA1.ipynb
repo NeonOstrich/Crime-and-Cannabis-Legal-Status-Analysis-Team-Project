{
 "cells": [
  {
   "cell_type": "code",
   "execution_count": 37,
   "metadata": {},
   "outputs": [],
   "source": [
    "# Import Dependencies\n",
    "import warnings\n",
    "warnings.filterwarnings('ignore')"
   ]
  },
  {
   "cell_type": "code",
   "execution_count": 38,
   "metadata": {},
   "outputs": [],
   "source": [
    "%matplotlib inline\n",
    "import pandas as pd\n",
    "import scipy.stats as stats"
   ]
  },
  {
   "cell_type": "code",
   "execution_count": 39,
   "metadata": {},
   "outputs": [],
   "source": [
    "canna_data = pd.read_csv(\"clean_data.csv\")"
   ]
  },
  {
   "cell_type": "code",
   "execution_count": 40,
   "metadata": {},
   "outputs": [
    {
     "data": {
      "text/html": [
       "<div>\n",
       "<style scoped>\n",
       "    .dataframe tbody tr th:only-of-type {\n",
       "        vertical-align: middle;\n",
       "    }\n",
       "\n",
       "    .dataframe tbody tr th {\n",
       "        vertical-align: top;\n",
       "    }\n",
       "\n",
       "    .dataframe thead th {\n",
       "        text-align: right;\n",
       "    }\n",
       "</style>\n",
       "<table border=\"1\" class=\"dataframe\">\n",
       "  <thead>\n",
       "    <tr style=\"text-align: right;\">\n",
       "      <th></th>\n",
       "      <th>Unnamed: 0</th>\n",
       "      <th>City</th>\n",
       "      <th>Legal Status</th>\n",
       "      <th>Legal Status Code</th>\n",
       "      <th>Population</th>\n",
       "      <th>Violent Crime per Capita</th>\n",
       "      <th>Rape per Capita</th>\n",
       "      <th>Robbery per Capita</th>\n",
       "      <th>Aggravated Assault per Capita</th>\n",
       "      <th>Property Crime Total per Capita</th>\n",
       "      <th>Burglary per Capita</th>\n",
       "      <th>Larceny-Theft per Capita</th>\n",
       "      <th>Motor Vehicle Theft per Capita</th>\n",
       "    </tr>\n",
       "  </thead>\n",
       "  <tbody>\n",
       "    <tr>\n",
       "      <th>0</th>\n",
       "      <td>0</td>\n",
       "      <td>Cedar Bluff</td>\n",
       "      <td>Illegal</td>\n",
       "      <td>1.0</td>\n",
       "      <td>1823.0</td>\n",
       "      <td>0.002194</td>\n",
       "      <td>0.000000</td>\n",
       "      <td>0.000000</td>\n",
       "      <td>0.002194</td>\n",
       "      <td>0.019748</td>\n",
       "      <td>0.003840</td>\n",
       "      <td>0.014262</td>\n",
       "      <td>0.001646</td>\n",
       "    </tr>\n",
       "    <tr>\n",
       "      <th>1</th>\n",
       "      <td>1</td>\n",
       "      <td>Centre</td>\n",
       "      <td>Illegal</td>\n",
       "      <td>1.0</td>\n",
       "      <td>3547.0</td>\n",
       "      <td>0.005639</td>\n",
       "      <td>0.001128</td>\n",
       "      <td>0.000000</td>\n",
       "      <td>0.004511</td>\n",
       "      <td>0.034959</td>\n",
       "      <td>0.003383</td>\n",
       "      <td>0.027347</td>\n",
       "      <td>0.004229</td>\n",
       "    </tr>\n",
       "    <tr>\n",
       "      <th>2</th>\n",
       "      <td>2</td>\n",
       "      <td>Daleville</td>\n",
       "      <td>Illegal</td>\n",
       "      <td>1.0</td>\n",
       "      <td>5080.0</td>\n",
       "      <td>0.003150</td>\n",
       "      <td>0.000000</td>\n",
       "      <td>0.000197</td>\n",
       "      <td>0.002953</td>\n",
       "      <td>0.019291</td>\n",
       "      <td>0.003740</td>\n",
       "      <td>0.014173</td>\n",
       "      <td>0.001378</td>\n",
       "    </tr>\n",
       "    <tr>\n",
       "      <th>3</th>\n",
       "      <td>3</td>\n",
       "      <td>Enterprise</td>\n",
       "      <td>Illegal</td>\n",
       "      <td>1.0</td>\n",
       "      <td>28569.0</td>\n",
       "      <td>0.004480</td>\n",
       "      <td>0.000595</td>\n",
       "      <td>0.000315</td>\n",
       "      <td>0.003500</td>\n",
       "      <td>0.025027</td>\n",
       "      <td>0.003395</td>\n",
       "      <td>0.019952</td>\n",
       "      <td>0.001680</td>\n",
       "    </tr>\n",
       "    <tr>\n",
       "      <th>4</th>\n",
       "      <td>4</td>\n",
       "      <td>Eufaula</td>\n",
       "      <td>Illegal</td>\n",
       "      <td>1.0</td>\n",
       "      <td>11568.0</td>\n",
       "      <td>0.008212</td>\n",
       "      <td>0.000778</td>\n",
       "      <td>0.001297</td>\n",
       "      <td>0.005878</td>\n",
       "      <td>0.039419</td>\n",
       "      <td>0.008212</td>\n",
       "      <td>0.027490</td>\n",
       "      <td>0.003717</td>\n",
       "    </tr>\n",
       "  </tbody>\n",
       "</table>\n",
       "</div>"
      ],
      "text/plain": [
       "   Unnamed: 0         City Legal Status  Legal Status Code  Population  \\\n",
       "0           0  Cedar Bluff      Illegal                1.0      1823.0   \n",
       "1           1       Centre      Illegal                1.0      3547.0   \n",
       "2           2    Daleville      Illegal                1.0      5080.0   \n",
       "3           3   Enterprise      Illegal                1.0     28569.0   \n",
       "4           4      Eufaula      Illegal                1.0     11568.0   \n",
       "\n",
       "   Violent Crime per Capita  Rape per Capita  Robbery per Capita  \\\n",
       "0                  0.002194         0.000000            0.000000   \n",
       "1                  0.005639         0.001128            0.000000   \n",
       "2                  0.003150         0.000000            0.000197   \n",
       "3                  0.004480         0.000595            0.000315   \n",
       "4                  0.008212         0.000778            0.001297   \n",
       "\n",
       "   Aggravated Assault per Capita  Property Crime Total per Capita  \\\n",
       "0                       0.002194                         0.019748   \n",
       "1                       0.004511                         0.034959   \n",
       "2                       0.002953                         0.019291   \n",
       "3                       0.003500                         0.025027   \n",
       "4                       0.005878                         0.039419   \n",
       "\n",
       "   Burglary per Capita  Larceny-Theft per Capita  \\\n",
       "0             0.003840                  0.014262   \n",
       "1             0.003383                  0.027347   \n",
       "2             0.003740                  0.014173   \n",
       "3             0.003395                  0.019952   \n",
       "4             0.008212                  0.027490   \n",
       "\n",
       "   Motor Vehicle Theft per Capita  \n",
       "0                        0.001646  \n",
       "1                        0.004229  \n",
       "2                        0.001378  \n",
       "3                        0.001680  \n",
       "4                        0.003717  "
      ]
     },
     "execution_count": 40,
     "metadata": {},
     "output_type": "execute_result"
    }
   ],
   "source": [
    "canna_data.head()"
   ]
  },
  {
   "cell_type": "code",
   "execution_count": 41,
   "metadata": {
    "scrolled": true
   },
   "outputs": [
    {
     "data": {
      "text/plain": [
       "<AxesSubplot: title={'center': 'Violent Crime per Capita'}, xlabel='Legal Status Code'>"
      ]
     },
     "execution_count": 41,
     "metadata": {},
     "output_type": "execute_result"
    },
    {
     "data": {
      "image/png": "[encoded data removed]",
      "text/plain": [
       "<Figure size 1000x300 with 1 Axes>"
      ]
     },
     "metadata": {},
     "output_type": "display_data"
    }
   ],
   "source": [
    "# Create a boxplot to compare means\n",
    "canna_data.boxplot(\"Violent Crime per Capita\", by=\"Legal Status Code\", figsize=(10, 3))\n"
   ]
  },
  {
   "cell_type": "code",
   "execution_count": 42,
   "metadata": {},
   "outputs": [],
   "source": [
    "# Extract individual groups\n",
    "group1 = canna_data[canna_data[\"Legal Status Code\"] == 1][\"Violent Crime per Capita\"]\n",
    "group2 = canna_data[canna_data[\"Legal Status Code\"] == 2][\"Violent Crime per Capita\"]\n",
    "group3 = canna_data[canna_data[\"Legal Status Code\"] == 3][\"Violent Crime per Capita\"]\n",
    "group4 = canna_data[canna_data[\"Legal Status Code\"] == 4][\"Violent Crime per Capita\"]"
   ]
  },
  {
   "cell_type": "code",
   "execution_count": 43,
   "metadata": {},
   "outputs": [
    {
     "data": {
      "text/plain": [
       "F_onewayResult(statistic=nan, pvalue=nan)"
      ]
     },
     "execution_count": 43,
     "metadata": {},
     "output_type": "execute_result"
    }
   ],
   "source": [
    "# Perform the ANOVA\n",
    "stats.f_oneway(group1, group2, group3, group4)"
   ]
  },
  {
   "cell_type": "code",
   "execution_count": null,
   "metadata": {},
   "outputs": [],
   "source": []
  },
  {
   "cell_type": "code",
   "execution_count": null,
   "metadata": {},
   "outputs": [],
   "source": []
  },
  {
   "cell_type": "code",
   "execution_count": null,
   "metadata": {},
   "outputs": [],
   "source": []
  },
  {
   "cell_type": "code",
   "execution_count": null,
   "metadata": {},
   "outputs": [],
   "source": []
  },
  {
   "cell_type": "code",
   "execution_count": null,
   "metadata": {},
   "outputs": [],
   "source": []
  },
  {
   "cell_type": "code",
   "execution_count": null,
   "metadata": {},
   "outputs": [],
   "source": []
  }
 ],
 "metadata": {
  "kernelspec": {
   "display_name": "Python 3 (ipykernel)",
   "language": "python",
   "name": "python3"
  },
  "language_info": {
   "codemirror_mode": {
    "name": "ipython",
    "version": 3
   },
   "file_extension": ".py",
   "mimetype": "text/x-python",
   "name": "python",
   "nbconvert_exporter": "python",
   "pygments_lexer": "ipython3",
   "version": "3.9.13"
  }
 },
 "nbformat": 4,
 "nbformat_minor": 2
}
